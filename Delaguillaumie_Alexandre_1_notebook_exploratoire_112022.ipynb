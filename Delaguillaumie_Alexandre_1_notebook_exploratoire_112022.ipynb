{
 "cells": [
  {
   "cell_type": "code",
   "execution_count": 171,
   "id": "d168074a",
   "metadata": {},
   "outputs": [],
   "source": [
    "# affichage des rectifications à faire pour être PEP8 compliant\n",
    "# %load_ext pycodestyle_magic\n",
    "# %pycodestyle_off"
   ]
  },
  {
   "cell_type": "code",
   "execution_count": 172,
   "id": "af087e04",
   "metadata": {},
   "outputs": [],
   "source": [
    "# librairies de base\n",
    "import pandas as pd\n",
    "import numpy as np\n",
    "import warnings\n",
    "from haversine import haversine, Unit\n",
    "pd.options.mode.chained_assignment = None\n",
    "warnings.filterwarnings('ignore')"
   ]
  },
  {
   "cell_type": "code",
   "execution_count": 173,
   "id": "ff9aa392",
   "metadata": {},
   "outputs": [],
   "source": [
    "# librairies de dataviz\n",
    "import seaborn as sns\n",
    "import matplotlib.pyplot as plt\n",
    "sns.set()\n",
    "%matplotlib inline"
   ]
  },
  {
   "cell_type": "code",
   "execution_count": 174,
   "id": "f26a29c9",
   "metadata": {},
   "outputs": [],
   "source": [
    "# Chargement des données\n",
    "data_customers = pd.read_csv('olist_customers_dataset.csv')\n",
    "data_geolocation = pd.read_csv('olist_geolocation_dataset.csv')\n",
    "data_order_items = pd.read_csv('olist_order_items_dataset.csv')\n",
    "data_order_payments = pd.read_csv('olist_order_payments_dataset.csv')\n",
    "data_order_reviews = pd.read_csv('olist_order_reviews_dataset.csv')\n",
    "data_orders = pd.read_csv('olist_orders_dataset.csv')\n",
    "data_products = pd.read_csv('olist_products_dataset.csv')\n",
    "data_sellers = pd.read_csv('olist_sellers_dataset.csv')\n",
    "data_category_name = pd.read_csv('product_category_name_translation.csv')"
   ]
  },
  {
   "cell_type": "markdown",
   "id": "80868974",
   "metadata": {},
   "source": [
    "# Overview"
   ]
  },
  {
   "cell_type": "code",
   "execution_count": 175,
   "id": "db5e9303",
   "metadata": {},
   "outputs": [
    {
     "name": "stdout",
     "output_type": "stream",
     "text": [
      "(99441, 5)\n"
     ]
    },
    {
     "data": {
      "text/html": [
       "<div>\n",
       "<style scoped>\n",
       "    .dataframe tbody tr th:only-of-type {\n",
       "        vertical-align: middle;\n",
       "    }\n",
       "\n",
       "    .dataframe tbody tr th {\n",
       "        vertical-align: top;\n",
       "    }\n",
       "\n",
       "    .dataframe thead th {\n",
       "        text-align: right;\n",
       "    }\n",
       "</style>\n",
       "<table border=\"1\" class=\"dataframe\">\n",
       "  <thead>\n",
       "    <tr style=\"text-align: right;\">\n",
       "      <th></th>\n",
       "      <th>customer_id</th>\n",
       "      <th>customer_unique_id</th>\n",
       "      <th>customer_zip_code_prefix</th>\n",
       "      <th>customer_city</th>\n",
       "      <th>customer_state</th>\n",
       "    </tr>\n",
       "  </thead>\n",
       "  <tbody>\n",
       "    <tr>\n",
       "      <th>0</th>\n",
       "      <td>06b8999e2fba1a1fbc88172c00ba8bc7</td>\n",
       "      <td>861eff4711a542e4b93843c6dd7febb0</td>\n",
       "      <td>14409</td>\n",
       "      <td>franca</td>\n",
       "      <td>SP</td>\n",
       "    </tr>\n",
       "    <tr>\n",
       "      <th>1</th>\n",
       "      <td>18955e83d337fd6b2def6b18a428ac77</td>\n",
       "      <td>290c77bc529b7ac935b93aa66c333dc3</td>\n",
       "      <td>9790</td>\n",
       "      <td>sao bernardo do campo</td>\n",
       "      <td>SP</td>\n",
       "    </tr>\n",
       "  </tbody>\n",
       "</table>\n",
       "</div>"
      ],
      "text/plain": [
       "                        customer_id                customer_unique_id  \\\n",
       "0  06b8999e2fba1a1fbc88172c00ba8bc7  861eff4711a542e4b93843c6dd7febb0   \n",
       "1  18955e83d337fd6b2def6b18a428ac77  290c77bc529b7ac935b93aa66c333dc3   \n",
       "\n",
       "   customer_zip_code_prefix          customer_city customer_state  \n",
       "0                     14409                 franca             SP  \n",
       "1                      9790  sao bernardo do campo             SP  "
      ]
     },
     "execution_count": 175,
     "metadata": {},
     "output_type": "execute_result"
    }
   ],
   "source": [
    "print(data_customers.shape)\n",
    "data_customers.head(2)"
   ]
  },
  {
   "cell_type": "code",
   "execution_count": 176,
   "id": "ef0eaf92",
   "metadata": {},
   "outputs": [
    {
     "name": "stdout",
     "output_type": "stream",
     "text": [
      "customer_id : 99441 \n",
      "customer_unique_id : 96096\n"
     ]
    }
   ],
   "source": [
    "print('customer_id :',\n",
    "      data_customers.customer_id.unique().shape[0],\n",
    "      '\\ncustomer_unique_id :',\n",
    "      data_customers.customer_unique_id.unique().shape[0])"
   ]
  },
  {
   "cell_type": "code",
   "execution_count": 177,
   "id": "2a367295",
   "metadata": {},
   "outputs": [
    {
     "data": {
      "text/plain": [
       "<AxesSubplot:xlabel='customer_state', ylabel='count'>"
      ]
     },
     "execution_count": 177,
     "metadata": {},
     "output_type": "execute_result"
    },
    {
     "data": {
      "image/png": "[encoded data removed]",
      "text/plain": [
       "<Figure size 1440x432 with 1 Axes>"
      ]
     },
     "metadata": {
      "needs_background": "light"
     },
     "output_type": "display_data"
    }
   ],
   "source": [
    "plt.figure(figsize=(20, 6))\n",
    "# Répartition par État\n",
    "sns.countplot(data=data_customers,\n",
    "              x=\"customer_state\",\n",
    "              edgecolor=\"black\",\n",
    "              color=\"k\",\n",
    "              alpha=0.7)"
   ]
  },
  {
   "cell_type": "markdown",
   "id": "817ffaaa",
   "metadata": {},
   "source": [
    "- customer_id : *Identifiant de la commande d'un client* (**Essentiel**)\n",
    "- customer_unique_id : *Identifiant unique du client* (**Essentiel**)\n",
    "- customer_zip_code_prefix : *Code Postal du client* (**Essentiel**)\n",
    "- customer_city : *Ville d'origine du client* (**Non essentiel**)\n",
    "- customer_state : *Etat d'origine du client* (**Essentiel**)"
   ]
  },
  {
   "cell_type": "code",
   "execution_count": 178,
   "id": "c3142a04",
   "metadata": {},
   "outputs": [
    {
     "name": "stdout",
     "output_type": "stream",
     "text": [
      "(1000163, 5)\n"
     ]
    },
    {
     "data": {
      "text/html": [
       "<div>\n",
       "<style scoped>\n",
       "    .dataframe tbody tr th:only-of-type {\n",
       "        vertical-align: middle;\n",
       "    }\n",
       "\n",
       "    .dataframe tbody tr th {\n",
       "        vertical-align: top;\n",
       "    }\n",
       "\n",
       "    .dataframe thead th {\n",
       "        text-align: right;\n",
       "    }\n",
       "</style>\n",
       "<table border=\"1\" class=\"dataframe\">\n",
       "  <thead>\n",
       "    <tr style=\"text-align: right;\">\n",
       "      <th></th>\n",
       "      <th>geolocation_zip_code_prefix</th>\n",
       "      <th>geolocation_lat</th>\n",
       "      <th>geolocation_lng</th>\n",
       "      <th>geolocation_city</th>\n",
       "      <th>geolocation_state</th>\n",
       "    </tr>\n",
       "  </thead>\n",
       "  <tbody>\n",
       "    <tr>\n",
       "      <th>0</th>\n",
       "      <td>1037</td>\n",
       "      <td>-23.545621</td>\n",
       "      <td>-46.639292</td>\n",
       "      <td>sao paulo</td>\n",
       "      <td>SP</td>\n",
       "    </tr>\n",
       "    <tr>\n",
       "      <th>1</th>\n",
       "      <td>1046</td>\n",
       "      <td>-23.546081</td>\n",
       "      <td>-46.644820</td>\n",
       "      <td>sao paulo</td>\n",
       "      <td>SP</td>\n",
       "    </tr>\n",
       "  </tbody>\n",
       "</table>\n",
       "</div>"
      ],
      "text/plain": [
       "   geolocation_zip_code_prefix  geolocation_lat  geolocation_lng  \\\n",
       "0                         1037       -23.545621       -46.639292   \n",
       "1                         1046       -23.546081       -46.644820   \n",
       "\n",
       "  geolocation_city geolocation_state  \n",
       "0        sao paulo                SP  \n",
       "1        sao paulo                SP  "
      ]
     },
     "execution_count": 178,
     "metadata": {},
     "output_type": "execute_result"
    }
   ],
   "source": [
    "print(data_geolocation.shape)\n",
    "data_geolocation.head(2)"
   ]
  },
  {
   "cell_type": "markdown",
   "id": "6ac32e54",
   "metadata": {},
   "source": [
    "- geolocation_zip_code_prefix : *Code Postal de la transaction* (**Essentiel**)\n",
    "- geolocation_lat : *Latitude où à été effectué la transaction* (**Essentiel**)\n",
    "- geolocation_lng : *Longitude où à été effectué la transaction* (**Essentiel**)\n",
    "- geolocation_city : *Ville où à été effectué la transaction* (**Non essentiel**)\n",
    "- geolocation_state : * Code Postal où à été effectué la transaction* (**Essentiel**)"
   ]
  },
  {
   "cell_type": "code",
   "execution_count": 179,
   "id": "3afecb8b",
   "metadata": {},
   "outputs": [
    {
     "name": "stdout",
     "output_type": "stream",
     "text": [
      "(112650, 7)\n"
     ]
    },
    {
     "data": {
      "text/html": [
       "<div>\n",
       "<style scoped>\n",
       "    .dataframe tbody tr th:only-of-type {\n",
       "        vertical-align: middle;\n",
       "    }\n",
       "\n",
       "    .dataframe tbody tr th {\n",
       "        vertical-align: top;\n",
       "    }\n",
       "\n",
       "    .dataframe thead th {\n",
       "        text-align: right;\n",
       "    }\n",
       "</style>\n",
       "<table border=\"1\" class=\"dataframe\">\n",
       "  <thead>\n",
       "    <tr style=\"text-align: right;\">\n",
       "      <th></th>\n",
       "      <th>order_id</th>\n",
       "      <th>order_item_id</th>\n",
       "      <th>product_id</th>\n",
       "      <th>seller_id</th>\n",
       "      <th>shipping_limit_date</th>\n",
       "      <th>price</th>\n",
       "      <th>freight_value</th>\n",
       "    </tr>\n",
       "  </thead>\n",
       "  <tbody>\n",
       "    <tr>\n",
       "      <th>0</th>\n",
       "      <td>00010242fe8c5a6d1ba2dd792cb16214</td>\n",
       "      <td>1</td>\n",
       "      <td>4244733e06e7ecb4970a6e2683c13e61</td>\n",
       "      <td>48436dade18ac8b2bce089ec2a041202</td>\n",
       "      <td>2017-09-19 09:45:35</td>\n",
       "      <td>58.9</td>\n",
       "      <td>13.29</td>\n",
       "    </tr>\n",
       "    <tr>\n",
       "      <th>1</th>\n",
       "      <td>00018f77f2f0320c557190d7a144bdd3</td>\n",
       "      <td>1</td>\n",
       "      <td>e5f2d52b802189ee658865ca93d83a8f</td>\n",
       "      <td>dd7ddc04e1b6c2c614352b383efe2d36</td>\n",
       "      <td>2017-05-03 11:05:13</td>\n",
       "      <td>239.9</td>\n",
       "      <td>19.93</td>\n",
       "    </tr>\n",
       "  </tbody>\n",
       "</table>\n",
       "</div>"
      ],
      "text/plain": [
       "                           order_id  order_item_id  \\\n",
       "0  00010242fe8c5a6d1ba2dd792cb16214              1   \n",
       "1  00018f77f2f0320c557190d7a144bdd3              1   \n",
       "\n",
       "                         product_id                         seller_id  \\\n",
       "0  4244733e06e7ecb4970a6e2683c13e61  48436dade18ac8b2bce089ec2a041202   \n",
       "1  e5f2d52b802189ee658865ca93d83a8f  dd7ddc04e1b6c2c614352b383efe2d36   \n",
       "\n",
       "   shipping_limit_date  price  freight_value  \n",
       "0  2017-09-19 09:45:35   58.9          13.29  \n",
       "1  2017-05-03 11:05:13  239.9          19.93  "
      ]
     },
     "execution_count": 179,
     "metadata": {},
     "output_type": "execute_result"
    }
   ],
   "source": [
    "print(data_order_items.shape)\n",
    "data_order_items.head(2)"
   ]
  },
  {
   "cell_type": "markdown",
   "id": "21152af0",
   "metadata": {},
   "source": [
    "- order_id : *identifiant unique de la commande* (**Essentiel**)\n",
    "- order_item_id : *Nième article achetés du panier* (**Essentiel**)\n",
    "- product_id : *Identifiant du produit* (**Essentiel**)\n",
    "- seller_id : *Identifiant du vendeur* (**Essentiel**)\n",
    "- shipping_limit_date : *Date maximale à laquelle le produit est expedié de l'entrepôt* (**Non Essentiel**)\n",
    "- price : *Prix du produit* (**Essentiel**)\n",
    "- freight_value : *Coût de transport du Nième article* (**Essentiel**)"
   ]
  },
  {
   "cell_type": "code",
   "execution_count": 180,
   "id": "3202ba2f",
   "metadata": {},
   "outputs": [
    {
     "data": {
      "text/html": [
       "<div>\n",
       "<style scoped>\n",
       "    .dataframe tbody tr th:only-of-type {\n",
       "        vertical-align: middle;\n",
       "    }\n",
       "\n",
       "    .dataframe tbody tr th {\n",
       "        vertical-align: top;\n",
       "    }\n",
       "\n",
       "    .dataframe thead th {\n",
       "        text-align: right;\n",
       "    }\n",
       "</style>\n",
       "<table border=\"1\" class=\"dataframe\">\n",
       "  <thead>\n",
       "    <tr style=\"text-align: right;\">\n",
       "      <th></th>\n",
       "      <th>order_id</th>\n",
       "      <th>payment_sequential</th>\n",
       "      <th>payment_type</th>\n",
       "      <th>payment_installments</th>\n",
       "      <th>payment_value</th>\n",
       "    </tr>\n",
       "  </thead>\n",
       "  <tbody>\n",
       "    <tr>\n",
       "      <th>25</th>\n",
       "      <td>5cfd514482e22bc992e7693f0e3e8df7</td>\n",
       "      <td>2</td>\n",
       "      <td>voucher</td>\n",
       "      <td>1</td>\n",
       "      <td>45.17</td>\n",
       "    </tr>\n",
       "    <tr>\n",
       "      <th>57742</th>\n",
       "      <td>5cfd514482e22bc992e7693f0e3e8df7</td>\n",
       "      <td>1</td>\n",
       "      <td>credit_card</td>\n",
       "      <td>4</td>\n",
       "      <td>665.41</td>\n",
       "    </tr>\n",
       "  </tbody>\n",
       "</table>\n",
       "</div>"
      ],
      "text/plain": [
       "                               order_id  payment_sequential payment_type  \\\n",
       "25     5cfd514482e22bc992e7693f0e3e8df7                   2      voucher   \n",
       "57742  5cfd514482e22bc992e7693f0e3e8df7                   1  credit_card   \n",
       "\n",
       "       payment_installments  payment_value  \n",
       "25                        1          45.17  \n",
       "57742                     4         665.41  "
      ]
     },
     "execution_count": 180,
     "metadata": {},
     "output_type": "execute_result"
    }
   ],
   "source": [
    "data_order_payments[data_order_payments.order_id == '5cfd514482e22bc992e7693f0e3e8df7']"
   ]
  },
  {
   "cell_type": "code",
   "execution_count": 181,
   "id": "1ba035c6",
   "metadata": {},
   "outputs": [
    {
     "name": "stdout",
     "output_type": "stream",
     "text": [
      "(103886, 5)\n"
     ]
    },
    {
     "data": {
      "text/html": [
       "<div>\n",
       "<style scoped>\n",
       "    .dataframe tbody tr th:only-of-type {\n",
       "        vertical-align: middle;\n",
       "    }\n",
       "\n",
       "    .dataframe tbody tr th {\n",
       "        vertical-align: top;\n",
       "    }\n",
       "\n",
       "    .dataframe thead th {\n",
       "        text-align: right;\n",
       "    }\n",
       "</style>\n",
       "<table border=\"1\" class=\"dataframe\">\n",
       "  <thead>\n",
       "    <tr style=\"text-align: right;\">\n",
       "      <th></th>\n",
       "      <th>order_id</th>\n",
       "      <th>payment_sequential</th>\n",
       "      <th>payment_type</th>\n",
       "      <th>payment_installments</th>\n",
       "      <th>payment_value</th>\n",
       "    </tr>\n",
       "  </thead>\n",
       "  <tbody>\n",
       "    <tr>\n",
       "      <th>0</th>\n",
       "      <td>b81ef226f3fe1789b1e8b2acac839d17</td>\n",
       "      <td>1</td>\n",
       "      <td>credit_card</td>\n",
       "      <td>8</td>\n",
       "      <td>99.33</td>\n",
       "    </tr>\n",
       "    <tr>\n",
       "      <th>1</th>\n",
       "      <td>a9810da82917af2d9aefd1278f1dcfa0</td>\n",
       "      <td>1</td>\n",
       "      <td>credit_card</td>\n",
       "      <td>1</td>\n",
       "      <td>24.39</td>\n",
       "    </tr>\n",
       "  </tbody>\n",
       "</table>\n",
       "</div>"
      ],
      "text/plain": [
       "                           order_id  payment_sequential payment_type  \\\n",
       "0  b81ef226f3fe1789b1e8b2acac839d17                   1  credit_card   \n",
       "1  a9810da82917af2d9aefd1278f1dcfa0                   1  credit_card   \n",
       "\n",
       "   payment_installments  payment_value  \n",
       "0                     8          99.33  \n",
       "1                     1          24.39  "
      ]
     },
     "execution_count": 181,
     "metadata": {},
     "output_type": "execute_result"
    }
   ],
   "source": [
    "print(data_order_payments.shape)\n",
    "data_order_payments.head(2)"
   ]
  },
  {
   "cell_type": "code",
   "execution_count": 182,
   "id": "27553b52",
   "metadata": {
    "scrolled": false
   },
   "outputs": [
    {
     "data": {
      "text/plain": [
       "<AxesSubplot:xlabel='payment_installments', ylabel='count'>"
      ]
     },
     "execution_count": 182,
     "metadata": {},
     "output_type": "execute_result"
    },
    {
     "data": {
      "image/png": "[encoded data removed]",
      "text/plain": [
       "<Figure size 1440x432 with 3 Axes>"
      ]
     },
     "metadata": {
      "needs_background": "light"
     },
     "output_type": "display_data"
    }
   ],
   "source": [
    "f, (ax1, ax2, ax3) = plt.subplots(1, 3, figsize=(20, 6))\n",
    "# Répartition du nombre de moyens de paiements moyen pour une transaction\n",
    "sns.countplot(data=data_order_payments, x=\"payment_sequential\",\n",
    "              edgecolor=\"black\",\n",
    "              color=\"k\",\n",
    "              alpha=0.7,\n",
    "              ax=ax1)\n",
    "# Répartition des moyens de paiement\n",
    "sns.countplot(data=data_order_payments,\n",
    "              x=\"payment_type\",\n",
    "              edgecolor=\"black\",\n",
    "              color=\"k\",\n",
    "              alpha=0.7,\n",
    "              ax=ax2)\n",
    "# Répartition du nombre de paiements pour une transaction\n",
    "sns.countplot(data=data_order_payments,\n",
    "              x=\"payment_installments\",\n",
    "              edgecolor=\"black\",\n",
    "              color=\"k\",\n",
    "              alpha=0.7,\n",
    "              ax=ax3)"
   ]
  },
  {
   "cell_type": "markdown",
   "id": "721be41f",
   "metadata": {},
   "source": [
    "- order_id : *identifiant unique de la commande* (**Essentiel**)\n",
    "- payment_sequential : *Nième moyen de paiement utilisé* (**Non essentiel**)\n",
    "- payment_type : *Moyen de paiement* (**Non Essentiel**)\n",
    "- payment_installments : *Nombre de versements choisis* (**Non Essentiel**)\n",
    "- payment_value : *Montant du panier* (**Essentiel**)"
   ]
  },
  {
   "cell_type": "code",
   "execution_count": 183,
   "id": "33e6dbae",
   "metadata": {},
   "outputs": [
    {
     "name": "stdout",
     "output_type": "stream",
     "text": [
      "(99224, 7)\n"
     ]
    },
    {
     "data": {
      "text/html": [
       "<div>\n",
       "<style scoped>\n",
       "    .dataframe tbody tr th:only-of-type {\n",
       "        vertical-align: middle;\n",
       "    }\n",
       "\n",
       "    .dataframe tbody tr th {\n",
       "        vertical-align: top;\n",
       "    }\n",
       "\n",
       "    .dataframe thead th {\n",
       "        text-align: right;\n",
       "    }\n",
       "</style>\n",
       "<table border=\"1\" class=\"dataframe\">\n",
       "  <thead>\n",
       "    <tr style=\"text-align: right;\">\n",
       "      <th></th>\n",
       "      <th>review_id</th>\n",
       "      <th>order_id</th>\n",
       "      <th>review_score</th>\n",
       "      <th>review_comment_title</th>\n",
       "      <th>review_comment_message</th>\n",
       "      <th>review_creation_date</th>\n",
       "      <th>review_answer_timestamp</th>\n",
       "    </tr>\n",
       "  </thead>\n",
       "  <tbody>\n",
       "    <tr>\n",
       "      <th>0</th>\n",
       "      <td>7bc2406110b926393aa56f80a40eba40</td>\n",
       "      <td>73fc7af87114b39712e6da79b0a377eb</td>\n",
       "      <td>4</td>\n",
       "      <td>NaN</td>\n",
       "      <td>NaN</td>\n",
       "      <td>2018-01-18 00:00:00</td>\n",
       "      <td>2018-01-18 21:46:59</td>\n",
       "    </tr>\n",
       "    <tr>\n",
       "      <th>1</th>\n",
       "      <td>80e641a11e56f04c1ad469d5645fdfde</td>\n",
       "      <td>a548910a1c6147796b98fdf73dbeba33</td>\n",
       "      <td>5</td>\n",
       "      <td>NaN</td>\n",
       "      <td>NaN</td>\n",
       "      <td>2018-03-10 00:00:00</td>\n",
       "      <td>2018-03-11 03:05:13</td>\n",
       "    </tr>\n",
       "  </tbody>\n",
       "</table>\n",
       "</div>"
      ],
      "text/plain": [
       "                          review_id                          order_id  \\\n",
       "0  7bc2406110b926393aa56f80a40eba40  73fc7af87114b39712e6da79b0a377eb   \n",
       "1  80e641a11e56f04c1ad469d5645fdfde  a548910a1c6147796b98fdf73dbeba33   \n",
       "\n",
       "   review_score review_comment_title review_comment_message  \\\n",
       "0             4                  NaN                    NaN   \n",
       "1             5                  NaN                    NaN   \n",
       "\n",
       "  review_creation_date review_answer_timestamp  \n",
       "0  2018-01-18 00:00:00     2018-01-18 21:46:59  \n",
       "1  2018-03-10 00:00:00     2018-03-11 03:05:13  "
      ]
     },
     "execution_count": 183,
     "metadata": {},
     "output_type": "execute_result"
    }
   ],
   "source": [
    "print(data_order_reviews.shape)\n",
    "data_order_reviews.head(2)"
   ]
  },
  {
   "cell_type": "markdown",
   "id": "0ee85592",
   "metadata": {},
   "source": [
    "- review_id : *Identifiant de l'avis client* (**Non essentiel**)\n",
    "- order_id : *identifiant unique de la commande* (**Essentiel**)\n",
    "- review_score : *Nombre d'étoiles sur 5 donné à la commande* (**Essentiel**)\n",
    "- review_comment_title : *Titre de l'avis* (**Non essentiel**)\n",
    "- review_comment_message : *Contenu de l'avis* (**Essentiel**)\n",
    "- review_creation_date : Création de l'avis* (**Non essentiel**)\n",
    "- review_answer_timestamp : *Date de réponse de la plateforme* (**Non essentiel**)"
   ]
  },
  {
   "cell_type": "code",
   "execution_count": 184,
   "id": "7379752d",
   "metadata": {},
   "outputs": [
    {
     "name": "stdout",
     "output_type": "stream",
     "text": [
      "(99441, 8)\n"
     ]
    },
    {
     "data": {
      "text/html": [
       "<div>\n",
       "<style scoped>\n",
       "    .dataframe tbody tr th:only-of-type {\n",
       "        vertical-align: middle;\n",
       "    }\n",
       "\n",
       "    .dataframe tbody tr th {\n",
       "        vertical-align: top;\n",
       "    }\n",
       "\n",
       "    .dataframe thead th {\n",
       "        text-align: right;\n",
       "    }\n",
       "</style>\n",
       "<table border=\"1\" class=\"dataframe\">\n",
       "  <thead>\n",
       "    <tr style=\"text-align: right;\">\n",
       "      <th></th>\n",
       "      <th>order_id</th>\n",
       "      <th>customer_id</th>\n",
       "      <th>order_status</th>\n",
       "      <th>order_purchase_timestamp</th>\n",
       "      <th>order_approved_at</th>\n",
       "      <th>order_delivered_carrier_date</th>\n",
       "      <th>order_delivered_customer_date</th>\n",
       "      <th>order_estimated_delivery_date</th>\n",
       "    </tr>\n",
       "  </thead>\n",
       "  <tbody>\n",
       "    <tr>\n",
       "      <th>0</th>\n",
       "      <td>e481f51cbdc54678b7cc49136f2d6af7</td>\n",
       "      <td>9ef432eb6251297304e76186b10a928d</td>\n",
       "      <td>delivered</td>\n",
       "      <td>2017-10-02 10:56:33</td>\n",
       "      <td>2017-10-02 11:07:15</td>\n",
       "      <td>2017-10-04 19:55:00</td>\n",
       "      <td>2017-10-10 21:25:13</td>\n",
       "      <td>2017-10-18 00:00:00</td>\n",
       "    </tr>\n",
       "    <tr>\n",
       "      <th>1</th>\n",
       "      <td>53cdb2fc8bc7dce0b6741e2150273451</td>\n",
       "      <td>b0830fb4747a6c6d20dea0b8c802d7ef</td>\n",
       "      <td>delivered</td>\n",
       "      <td>2018-07-24 20:41:37</td>\n",
       "      <td>2018-07-26 03:24:27</td>\n",
       "      <td>2018-07-26 14:31:00</td>\n",
       "      <td>2018-08-07 15:27:45</td>\n",
       "      <td>2018-08-13 00:00:00</td>\n",
       "    </tr>\n",
       "  </tbody>\n",
       "</table>\n",
       "</div>"
      ],
      "text/plain": [
       "                           order_id                       customer_id  \\\n",
       "0  e481f51cbdc54678b7cc49136f2d6af7  9ef432eb6251297304e76186b10a928d   \n",
       "1  53cdb2fc8bc7dce0b6741e2150273451  b0830fb4747a6c6d20dea0b8c802d7ef   \n",
       "\n",
       "  order_status order_purchase_timestamp    order_approved_at  \\\n",
       "0    delivered      2017-10-02 10:56:33  2017-10-02 11:07:15   \n",
       "1    delivered      2018-07-24 20:41:37  2018-07-26 03:24:27   \n",
       "\n",
       "  order_delivered_carrier_date order_delivered_customer_date  \\\n",
       "0          2017-10-04 19:55:00           2017-10-10 21:25:13   \n",
       "1          2018-07-26 14:31:00           2018-08-07 15:27:45   \n",
       "\n",
       "  order_estimated_delivery_date  \n",
       "0           2017-10-18 00:00:00  \n",
       "1           2018-08-13 00:00:00  "
      ]
     },
     "execution_count": 184,
     "metadata": {},
     "output_type": "execute_result"
    }
   ],
   "source": [
    "print(data_orders.shape)\n",
    "data_orders.head(2)"
   ]
  },
  {
   "cell_type": "markdown",
   "id": "3d3de825",
   "metadata": {},
   "source": [
    "- order_id : *identifiant unique de la commande* (**Essentiel**)\n",
    "- customer_id : *Identifiant du client* (**Essentiel**)\n",
    "- order_status : *Statut de la commande* (**Essentiel**)\n",
    "- order_purchase_timestamp : *Date d'achat* (**Essentiel**)\n",
    "- order_approved_at : *Date d'approbation de la commande par la plateforme* (**Non essentiel**)\n",
    "- order_delivered_carrier_date : *Date de prise en charge par le transporteur* (**Non essentiel**)\n",
    "- order_delivered_customer_date : *Date effective de livraison* (**Essentiel**)\n",
    "- order_estimated_delivery_date : *Date estimée de livraison* (**Essentiel**)"
   ]
  },
  {
   "cell_type": "code",
   "execution_count": 185,
   "id": "0a6e8470",
   "metadata": {},
   "outputs": [
    {
     "name": "stdout",
     "output_type": "stream",
     "text": [
      "(32951, 9)\n"
     ]
    },
    {
     "data": {
      "text/html": [
       "<div>\n",
       "<style scoped>\n",
       "    .dataframe tbody tr th:only-of-type {\n",
       "        vertical-align: middle;\n",
       "    }\n",
       "\n",
       "    .dataframe tbody tr th {\n",
       "        vertical-align: top;\n",
       "    }\n",
       "\n",
       "    .dataframe thead th {\n",
       "        text-align: right;\n",
       "    }\n",
       "</style>\n",
       "<table border=\"1\" class=\"dataframe\">\n",
       "  <thead>\n",
       "    <tr style=\"text-align: right;\">\n",
       "      <th></th>\n",
       "      <th>product_id</th>\n",
       "      <th>product_category_name</th>\n",
       "      <th>product_name_lenght</th>\n",
       "      <th>product_description_lenght</th>\n",
       "      <th>product_photos_qty</th>\n",
       "      <th>product_weight_g</th>\n",
       "      <th>product_length_cm</th>\n",
       "      <th>product_height_cm</th>\n",
       "      <th>product_width_cm</th>\n",
       "    </tr>\n",
       "  </thead>\n",
       "  <tbody>\n",
       "    <tr>\n",
       "      <th>0</th>\n",
       "      <td>1e9e8ef04dbcff4541ed26657ea517e5</td>\n",
       "      <td>perfumaria</td>\n",
       "      <td>40.0</td>\n",
       "      <td>287.0</td>\n",
       "      <td>1.0</td>\n",
       "      <td>225.0</td>\n",
       "      <td>16.0</td>\n",
       "      <td>10.0</td>\n",
       "      <td>14.0</td>\n",
       "    </tr>\n",
       "    <tr>\n",
       "      <th>1</th>\n",
       "      <td>3aa071139cb16b67ca9e5dea641aaa2f</td>\n",
       "      <td>artes</td>\n",
       "      <td>44.0</td>\n",
       "      <td>276.0</td>\n",
       "      <td>1.0</td>\n",
       "      <td>1000.0</td>\n",
       "      <td>30.0</td>\n",
       "      <td>18.0</td>\n",
       "      <td>20.0</td>\n",
       "    </tr>\n",
       "  </tbody>\n",
       "</table>\n",
       "</div>"
      ],
      "text/plain": [
       "                         product_id product_category_name  \\\n",
       "0  1e9e8ef04dbcff4541ed26657ea517e5            perfumaria   \n",
       "1  3aa071139cb16b67ca9e5dea641aaa2f                 artes   \n",
       "\n",
       "   product_name_lenght  product_description_lenght  product_photos_qty  \\\n",
       "0                 40.0                       287.0                 1.0   \n",
       "1                 44.0                       276.0                 1.0   \n",
       "\n",
       "   product_weight_g  product_length_cm  product_height_cm  product_width_cm  \n",
       "0             225.0               16.0               10.0              14.0  \n",
       "1            1000.0               30.0               18.0              20.0  "
      ]
     },
     "execution_count": 185,
     "metadata": {},
     "output_type": "execute_result"
    }
   ],
   "source": [
    "print(data_products.shape)\n",
    "data_products.head(2)"
   ]
  },
  {
   "cell_type": "markdown",
   "id": "6b11d2d1",
   "metadata": {},
   "source": [
    "- product_id : *Identifiant du produit* (**Essentiel**)\n",
    "- product_category_name : *Catégorie de produit* (**Essentiel**)\n",
    "- product_name_lenght : *Longueur du nom du produit* (**Non essentiel**)\n",
    "- product_description_lenght : *Longueur de la description du produit* (**Non essentiel**)\n",
    "- product_photos_qty : *Nombre de photos du produit* (**Non essentiel**)\n",
    "- product_weight_g : *Poids du produit* (**Non essentiel**)\n",
    "- product_length_cm : *Longueur du produit* (**Non essentiel**)\n",
    "- product_height_cm : *Hauteur du produit* (**Non essentiel**)\n",
    "- product_width_cm : *Profondeur du produit* (**Non essentiel**)"
   ]
  },
  {
   "cell_type": "code",
   "execution_count": 186,
   "id": "7f814f1f",
   "metadata": {},
   "outputs": [
    {
     "name": "stdout",
     "output_type": "stream",
     "text": [
      "(3095, 4)\n"
     ]
    },
    {
     "data": {
      "text/html": [
       "<div>\n",
       "<style scoped>\n",
       "    .dataframe tbody tr th:only-of-type {\n",
       "        vertical-align: middle;\n",
       "    }\n",
       "\n",
       "    .dataframe tbody tr th {\n",
       "        vertical-align: top;\n",
       "    }\n",
       "\n",
       "    .dataframe thead th {\n",
       "        text-align: right;\n",
       "    }\n",
       "</style>\n",
       "<table border=\"1\" class=\"dataframe\">\n",
       "  <thead>\n",
       "    <tr style=\"text-align: right;\">\n",
       "      <th></th>\n",
       "      <th>seller_id</th>\n",
       "      <th>seller_zip_code_prefix</th>\n",
       "      <th>seller_city</th>\n",
       "      <th>seller_state</th>\n",
       "    </tr>\n",
       "  </thead>\n",
       "  <tbody>\n",
       "    <tr>\n",
       "      <th>0</th>\n",
       "      <td>3442f8959a84dea7ee197c632cb2df15</td>\n",
       "      <td>13023</td>\n",
       "      <td>campinas</td>\n",
       "      <td>SP</td>\n",
       "    </tr>\n",
       "    <tr>\n",
       "      <th>1</th>\n",
       "      <td>d1b65fc7debc3361ea86b5f14c68d2e2</td>\n",
       "      <td>13844</td>\n",
       "      <td>mogi guacu</td>\n",
       "      <td>SP</td>\n",
       "    </tr>\n",
       "  </tbody>\n",
       "</table>\n",
       "</div>"
      ],
      "text/plain": [
       "                          seller_id  seller_zip_code_prefix seller_city  \\\n",
       "0  3442f8959a84dea7ee197c632cb2df15                   13023    campinas   \n",
       "1  d1b65fc7debc3361ea86b5f14c68d2e2                   13844  mogi guacu   \n",
       "\n",
       "  seller_state  \n",
       "0           SP  \n",
       "1           SP  "
      ]
     },
     "execution_count": 186,
     "metadata": {},
     "output_type": "execute_result"
    }
   ],
   "source": [
    "print(data_sellers.shape)\n",
    "data_sellers.head(2)"
   ]
  },
  {
   "cell_type": "markdown",
   "id": "173ef95c",
   "metadata": {},
   "source": [
    "- seller_id : *Identifiant du vendeur* (**Essentiel**)\n",
    "- seller_zip_code_prefix : *Code Postal du vendeur* (**Non essentiel**)\n",
    "- seller_city : *Ville du vendeur* (**Non essentiel**)\n",
    "- seller_state : *État du vendeur* (**Essentiel**)"
   ]
  },
  {
   "cell_type": "code",
   "execution_count": 187,
   "id": "314e7fdc",
   "metadata": {
    "scrolled": true
   },
   "outputs": [
    {
     "name": "stdout",
     "output_type": "stream",
     "text": [
      "(71, 2)\n"
     ]
    },
    {
     "data": {
      "text/html": [
       "<div>\n",
       "<style scoped>\n",
       "    .dataframe tbody tr th:only-of-type {\n",
       "        vertical-align: middle;\n",
       "    }\n",
       "\n",
       "    .dataframe tbody tr th {\n",
       "        vertical-align: top;\n",
       "    }\n",
       "\n",
       "    .dataframe thead th {\n",
       "        text-align: right;\n",
       "    }\n",
       "</style>\n",
       "<table border=\"1\" class=\"dataframe\">\n",
       "  <thead>\n",
       "    <tr style=\"text-align: right;\">\n",
       "      <th></th>\n",
       "      <th>product_category_name</th>\n",
       "      <th>product_category_name_english</th>\n",
       "    </tr>\n",
       "  </thead>\n",
       "  <tbody>\n",
       "    <tr>\n",
       "      <th>0</th>\n",
       "      <td>beleza_saude</td>\n",
       "      <td>health_beauty</td>\n",
       "    </tr>\n",
       "    <tr>\n",
       "      <th>1</th>\n",
       "      <td>informatica_acessorios</td>\n",
       "      <td>computers_accessories</td>\n",
       "    </tr>\n",
       "  </tbody>\n",
       "</table>\n",
       "</div>"
      ],
      "text/plain": [
       "    product_category_name product_category_name_english\n",
       "0            beleza_saude                 health_beauty\n",
       "1  informatica_acessorios         computers_accessories"
      ]
     },
     "execution_count": 187,
     "metadata": {},
     "output_type": "execute_result"
    }
   ],
   "source": [
    "print(data_category_name.shape)\n",
    "data_category_name.head(2)"
   ]
  },
  {
   "cell_type": "markdown",
   "id": "902003c9",
   "metadata": {},
   "source": [
    "- product_category_name : *Catégorie de produit* (**Essentiel**)\n",
    "- product_category_name : *Catégorie de produit traduite en anglais* (**Essentiel**)"
   ]
  },
  {
   "cell_type": "markdown",
   "id": "d1c6800b",
   "metadata": {},
   "source": [
    "## Dimensions"
   ]
  },
  {
   "cell_type": "code",
   "execution_count": 188,
   "id": "bcd06b6f",
   "metadata": {},
   "outputs": [],
   "source": [
    "# Noms des différents jeux de données\n",
    "liste_df = [data_customers,\n",
    "            data_geolocation,\n",
    "            data_order_items,\n",
    "            data_order_payments,\n",
    "            data_order_reviews,\n",
    "            data_orders,\n",
    "            data_products,\n",
    "            data_sellers,\n",
    "            data_category_name]\n",
    "\n",
    "noms_df = ['data_customers',\n",
    "           'data_geolocation',\n",
    "           'data_order_items',\n",
    "           'data_order_payments',\n",
    "           'data_order_reviews',\n",
    "           'data_orders',\n",
    "           'data_products',\n",
    "           'data_sellers',\n",
    "           'data_category_name']"
   ]
  },
  {
   "cell_type": "code",
   "execution_count": 189,
   "id": "69f22c62",
   "metadata": {},
   "outputs": [
    {
     "name": "stdout",
     "output_type": "stream",
     "text": [
      "data_customers 99441\n",
      "data_geolocation 1000163\n",
      "data_order_items 112650\n",
      "data_order_payments 103886\n",
      "data_order_reviews 99224\n",
      "data_orders 99441\n",
      "data_products 32951\n",
      "data_sellers 3095\n",
      "data_category_name 71\n"
     ]
    }
   ],
   "source": [
    "# Longueur de chaque jeu de données\n",
    "for df, name in zip(liste_df, noms_df):\n",
    "    print(name, df.shape[0])"
   ]
  },
  {
   "cell_type": "markdown",
   "id": "85c05d82",
   "metadata": {},
   "source": [
    "## Traitement des NaN"
   ]
  },
  {
   "cell_type": "code",
   "execution_count": 190,
   "id": "0ebc9361",
   "metadata": {},
   "outputs": [
    {
     "name": "stdout",
     "output_type": "stream",
     "text": [
      "data_customers contient 0.00% de NaN\n",
      "data_geolocation contient 0.00% de NaN\n",
      "data_order_items contient 0.00% de NaN\n",
      "data_order_payments contient 0.00% de NaN\n",
      "data_order_reviews contient 0.21% de NaN\n",
      "data_orders contient 0.01% de NaN\n",
      "data_products contient 0.01% de NaN\n",
      "data_sellers contient 0.00% de NaN\n",
      "data_category_name contient 0.00% de NaN\n"
     ]
    }
   ],
   "source": [
    "# Nombre de données non renseignées par jeu de données (Not A Number = NaN = cellule vide)\n",
    "for df, nom in zip(liste_df, noms_df):\n",
    "    print(nom,\n",
    "          \"contient {:.2f}% de NaN\".format(\n",
    "              df.isna().sum().sum()/df.shape[0]/df.shape[1]))"
   ]
  },
  {
   "cell_type": "code",
   "execution_count": 191,
   "id": "3bcd0e42",
   "metadata": {},
   "outputs": [
    {
     "data": {
      "text/plain": [
       "review_id                  0\n",
       "order_id                   0\n",
       "review_score               0\n",
       "review_comment_title       0\n",
       "review_comment_message     0\n",
       "review_creation_date       0\n",
       "review_answer_timestamp    0\n",
       "dtype: int64"
      ]
     },
     "execution_count": 191,
     "metadata": {},
     "output_type": "execute_result"
    }
   ],
   "source": [
    "# NaN du order_reviews : section commentaires non renseignés\n",
    "# data_order_reviews.drop(['review_comment_title','review_comment_message'],axis=1)\n",
    "data_order_reviews['review_comment_title'].fillna(' ', inplace=True)\n",
    "data_order_reviews['review_comment_message'].fillna(' ', inplace=True)\n",
    "data_order_reviews.isna().sum(axis=0)"
   ]
  },
  {
   "cell_type": "code",
   "execution_count": 192,
   "id": "336ea9d8",
   "metadata": {},
   "outputs": [
    {
     "data": {
      "text/plain": [
       "order_id                            0\n",
       "customer_id                         0\n",
       "order_status                        0\n",
       "order_purchase_timestamp            0\n",
       "order_approved_at                 160\n",
       "order_delivered_carrier_date     1783\n",
       "order_delivered_customer_date       0\n",
       "order_estimated_delivery_date       0\n",
       "dtype: int64"
      ]
     },
     "execution_count": 192,
     "metadata": {},
     "output_type": "execute_result"
    }
   ],
   "source": [
    "# NaN du data_orders\n",
    "data_orders['order_delivered_customer_date'].fillna(0, inplace=True)\n",
    "data_orders.isna().sum(axis=0)"
   ]
  },
  {
   "cell_type": "code",
   "execution_count": 193,
   "id": "37a765e2",
   "metadata": {},
   "outputs": [
    {
     "data": {
      "text/plain": [
       "product_id                      0\n",
       "product_category_name           0\n",
       "product_name_lenght           610\n",
       "product_description_lenght    610\n",
       "product_photos_qty            610\n",
       "product_weight_g                2\n",
       "product_length_cm               2\n",
       "product_height_cm               2\n",
       "product_width_cm                2\n",
       "dtype: int64"
      ]
     },
     "execution_count": 193,
     "metadata": {},
     "output_type": "execute_result"
    }
   ],
   "source": [
    "# NaN du data_products\n",
    "data_products.product_category_name.fillna('Unknown', inplace=True)\n",
    "data_products.isna().sum(axis=0)"
   ]
  },
  {
   "cell_type": "markdown",
   "id": "8f0efefd",
   "metadata": {},
   "source": [
    "## Corrections et suppressions"
   ]
  },
  {
   "cell_type": "code",
   "execution_count": 194,
   "id": "e410273d",
   "metadata": {},
   "outputs": [],
   "source": [
    "# Suppression des variables inutiles\n",
    "data_customers.drop(['customer_city',\n",
    "                     'customer_zip_code_prefix'], axis=1, inplace=True)"
   ]
  },
  {
   "cell_type": "code",
   "execution_count": 195,
   "id": "d35aa4e8",
   "metadata": {},
   "outputs": [],
   "source": [
    "# Suppression des doublons\n",
    "data_geolocation.drop_duplicates(inplace=True)\n",
    "# Groupement des données\n",
    "data_geolocation = data_geolocation.groupby(['geolocation_state']).mean()\n",
    "# Suppression des variables inutiles\n",
    "data_geolocation.drop(['geolocation_zip_code_prefix'],\n",
    "                      axis=1,\n",
    "                      inplace=True)"
   ]
  },
  {
   "cell_type": "code",
   "execution_count": 196,
   "id": "0688acc6",
   "metadata": {},
   "outputs": [],
   "source": [
    "# Suppression des variables inutiles\n",
    "data_order_items.drop(['shipping_limit_date'],\n",
    "                      axis=1,\n",
    "                      inplace=True)"
   ]
  },
  {
   "cell_type": "code",
   "execution_count": 197,
   "id": "62dfcd10",
   "metadata": {},
   "outputs": [],
   "source": [
    "# Suppression des variables inutiles\n",
    "data_order_payments.drop(['payment_sequential'],\n",
    "                         axis=1,\n",
    "                         inplace=True)"
   ]
  },
  {
   "cell_type": "code",
   "execution_count": 198,
   "id": "3cd92ab0",
   "metadata": {},
   "outputs": [],
   "source": [
    "# Suppression des variables inutiles\n",
    "data_order_reviews.drop(['review_id',\n",
    "                         'review_comment_title',\n",
    "                         'review_creation_date',\n",
    "                         'review_answer_timestamp'],\n",
    "                        axis=1,\n",
    "                        inplace=True)"
   ]
  },
  {
   "cell_type": "code",
   "execution_count": 199,
   "id": "5b505f9c",
   "metadata": {},
   "outputs": [],
   "source": [
    "# Conservation des données utiles uniquement\n",
    "data_orders = data_orders[\n",
    "     data_orders.order_status == \"delivered\"]\n",
    "# Modification du format des données\n",
    "data_orders['order_purchase_timestamp'] = data_orders[\n",
    "    'order_purchase_timestamp'].astype('datetime64')\n",
    "# Modification du format des données\n",
    "data_orders['order_estimated_delivery_date'] = data_orders[\n",
    "    'order_estimated_delivery_date'].astype('datetime64')\n",
    "# Modification du format des données\n",
    "data_orders['order_delivered_customer_date'] = pd.to_datetime(\n",
    "     data_orders['order_delivered_customer_date'],\n",
    "     errors='coerce')\n",
    "# Suppression des variables inutiles\n",
    "data_orders.drop(['order_status',\n",
    "                  'order_approved_at',\n",
    "                  'order_delivered_carrier_date'],\n",
    "                 axis=1,\n",
    "                 inplace=True)"
   ]
  },
  {
   "cell_type": "code",
   "execution_count": 200,
   "id": "cfa41044",
   "metadata": {},
   "outputs": [],
   "source": [
    "# Suppression des variables inutiles\n",
    "data_products.drop(['product_name_lenght',\n",
    "                    'product_description_lenght',\n",
    "                    'product_photos_qty',\n",
    "                    'product_weight_g',\n",
    "                    'product_length_cm',\n",
    "                    'product_height_cm',\n",
    "                    'product_width_cm'],\n",
    "                   axis=1,\n",
    "                   inplace=True)"
   ]
  },
  {
   "cell_type": "code",
   "execution_count": 201,
   "id": "2b2e66c4",
   "metadata": {},
   "outputs": [],
   "source": [
    "# Suppression des variables inutiles\n",
    "data_sellers.drop(['seller_city',\n",
    "                   'seller_zip_code_prefix'],\n",
    "                  axis=1,\n",
    "                  inplace=True)"
   ]
  },
  {
   "cell_type": "markdown",
   "id": "ecdac7c5",
   "metadata": {},
   "source": [
    "## Merge des différents jeux de données"
   ]
  },
  {
   "cell_type": "code",
   "execution_count": 202,
   "id": "898fa81b",
   "metadata": {},
   "outputs": [],
   "source": [
    "# Fusion des commandes, avis et contenu des commandes\n",
    "df_1 = data_order_items.merge(\n",
    "    data_order_payments,\n",
    "    on='order_id'\n",
    "    ).merge(\n",
    "        data_order_reviews,\n",
    "        on='order_id'\n",
    "        ).merge(data_orders,\n",
    "                on='order_id',\n",
    "                how='right'\n",
    "                )"
   ]
  },
  {
   "cell_type": "code",
   "execution_count": 203,
   "id": "4e01999c",
   "metadata": {},
   "outputs": [
    {
     "data": {
      "text/plain": [
       "(115506, 15)"
      ]
     },
     "execution_count": 203,
     "metadata": {},
     "output_type": "execute_result"
    }
   ],
   "source": [
    "df_1.shape"
   ]
  },
  {
   "cell_type": "code",
   "execution_count": 204,
   "id": "dc567864",
   "metadata": {},
   "outputs": [],
   "source": [
    "# Fusion des commandes et des clients associés\n",
    "df_2 = df_1.merge(data_customers,\n",
    "                  on='customer_id',\n",
    "                  how='left'\n",
    "                  )"
   ]
  },
  {
   "cell_type": "code",
   "execution_count": 205,
   "id": "0566f584",
   "metadata": {},
   "outputs": [
    {
     "data": {
      "text/plain": [
       "(115506, 17)"
      ]
     },
     "execution_count": 205,
     "metadata": {},
     "output_type": "execute_result"
    }
   ],
   "source": [
    "df_2.shape"
   ]
  },
  {
   "cell_type": "code",
   "execution_count": 206,
   "id": "90952cbe",
   "metadata": {},
   "outputs": [],
   "source": [
    "# Fusion des clients et de leur geolocalisation\n",
    "df_3 = df_2.merge(data_geolocation,\n",
    "                  left_on='customer_state',\n",
    "                  right_on='geolocation_state',\n",
    "                  how='right'\n",
    "                  )"
   ]
  },
  {
   "cell_type": "code",
   "execution_count": 207,
   "id": "2180252f",
   "metadata": {},
   "outputs": [
    {
     "data": {
      "text/plain": [
       "(115506, 19)"
      ]
     },
     "execution_count": 207,
     "metadata": {},
     "output_type": "execute_result"
    }
   ],
   "source": [
    "df_3.shape"
   ]
  },
  {
   "cell_type": "code",
   "execution_count": 208,
   "id": "bd09d10d",
   "metadata": {},
   "outputs": [],
   "source": [
    "# Fusion des commandes et des vendeurs associés\n",
    "data = df_3.merge(data_sellers,\n",
    "                  on='seller_id',\n",
    "                  how='right'\n",
    "                  )"
   ]
  },
  {
   "cell_type": "code",
   "execution_count": 211,
   "id": "0a0b2d09",
   "metadata": {},
   "outputs": [
    {
     "data": {
      "text/plain": [
       "(114859, 20)"
      ]
     },
     "execution_count": 211,
     "metadata": {},
     "output_type": "execute_result"
    }
   ],
   "source": [
    "data.shape"
   ]
  },
  {
   "cell_type": "markdown",
   "id": "a804bb29",
   "metadata": {},
   "source": [
    "# Overview 2"
   ]
  },
  {
   "cell_type": "code",
   "execution_count": 212,
   "id": "5c6c112a",
   "metadata": {},
   "outputs": [
    {
     "name": "stdout",
     "output_type": "stream",
     "text": [
      "df_1 115506\n",
      "df_2 115506\n",
      "df_3 115506\n",
      "data 114859\n"
     ]
    }
   ],
   "source": [
    "# Nombre d'index pour chaque étape du merge\n",
    "concat = [df_1,\n",
    "          df_2,\n",
    "          df_3,\n",
    "          data]\n",
    "concat_name = ['df_1',\n",
    "           'df_2',\n",
    "           'df_3',\n",
    "           'data']\n",
    "for df, name in zip(concat, concat_name):\n",
    "    print('{}'.format(name),\n",
    "          df.shape[0]\n",
    "          )"
   ]
  },
  {
   "cell_type": "code",
   "execution_count": 213,
   "id": "f78042cf",
   "metadata": {},
   "outputs": [
    {
     "data": {
      "text/plain": [
       "order_id                                 object\n",
       "order_item_id                           float64\n",
       "product_id                               object\n",
       "seller_id                                object\n",
       "price                                   float64\n",
       "freight_value                           float64\n",
       "payment_type                             object\n",
       "payment_installments                    float64\n",
       "payment_value                           float64\n",
       "review_score                            float64\n",
       "review_comment_message                   object\n",
       "customer_id                              object\n",
       "order_purchase_timestamp         datetime64[ns]\n",
       "order_delivered_customer_date    datetime64[ns]\n",
       "order_estimated_delivery_date    datetime64[ns]\n",
       "customer_unique_id                       object\n",
       "customer_state                           object\n",
       "geolocation_lat                         float64\n",
       "geolocation_lng                         float64\n",
       "seller_state                             object\n",
       "dtype: object"
      ]
     },
     "execution_count": 213,
     "metadata": {},
     "output_type": "execute_result"
    }
   ],
   "source": [
    "# Format des données de chaque colonne\n",
    "data.dtypes"
   ]
  },
  {
   "cell_type": "code",
   "execution_count": 214,
   "id": "f4887184",
   "metadata": {},
   "outputs": [],
   "source": [
    "data.drop([\n",
    "           'review_comment_message',\n",
    "           'order_item_id',\n",
    "           'seller_id',\n",
    "           'freight_value',\n",
    "           'payment_type',\n",
    "           'payment_installments',\n",
    "           'payment_value',\n",
    "           'review_comment_message',\n",
    "           'customer_state',\n",
    "           'seller_state'\n",
    "           ],\n",
    "          axis=1,\n",
    "          inplace=True)"
   ]
  },
  {
   "cell_type": "code",
   "execution_count": 215,
   "id": "87773072",
   "metadata": {},
   "outputs": [],
   "source": [
    "# Export du dataset final pour la\n",
    "# simulation d'obsolescence du modèle\n",
    "data.to_csv(\"dataset_simulation.csv\")"
   ]
  },
  {
   "cell_type": "markdown",
   "id": "b2434f04",
   "metadata": {},
   "source": [
    "# Variables finales"
   ]
  },
  {
   "cell_type": "code",
   "execution_count": 228,
   "id": "0e5be903",
   "metadata": {},
   "outputs": [],
   "source": [
    "data.drop_duplicates(subset=['customer_id'],\n",
    "                     inplace=True)"
   ]
  },
  {
   "cell_type": "code",
   "execution_count": 229,
   "id": "e1bc7639",
   "metadata": {},
   "outputs": [
    {
     "data": {
      "text/plain": [
       "95831"
      ]
     },
     "execution_count": 229,
     "metadata": {},
     "output_type": "execute_result"
    }
   ],
   "source": [
    "data.shape[0]"
   ]
  },
  {
   "cell_type": "code",
   "execution_count": 230,
   "id": "11d86615",
   "metadata": {},
   "outputs": [],
   "source": [
    "# Coordonnées de l'entrepôt\n",
    "olist = (-25.43045, -49.29207)\n",
    "\n",
    "# Modification au format datetime\n",
    "data['order_purchase_timestamp'] = data[\n",
    "    'order_purchase_timestamp'].astype('datetime64')\n",
    "\n",
    "# Modification au format datetime\n",
    "data['order_estimated_delivery_date'] = data[\n",
    "    'order_estimated_delivery_date'].astype('datetime64')\n",
    "\n",
    "# Modification au format datetime\n",
    "data['order_delivered_customer_date'] = pd.to_datetime(\n",
    "    data['order_delivered_customer_date'],\n",
    "    errors='coerce')"
   ]
  },
  {
   "cell_type": "code",
   "execution_count": 239,
   "id": "d7255c2f",
   "metadata": {},
   "outputs": [],
   "source": [
    "def FeatureEngineering(data):\n",
    "    \n",
    "    '''\n",
    "    Fonction permettant de refaire un feature\n",
    "    engineering sur mesure pour tout DataFrame en input\n",
    "    '''\n",
    "    \n",
    "    # Création d'un dataframe vide\n",
    "    final_data = pd.DataFrame()\n",
    "    \n",
    "    # last_day_purchase\n",
    "    final_data['last_day_purchase'] = (\n",
    "        data.order_purchase_timestamp.max()\n",
    "        - data.groupby('customer_unique_id')[\n",
    "            'order_purchase_timestamp'].max()).apply(\n",
    "        lambda x: x.days)\n",
    "    \n",
    "    # mean_delay\n",
    "    final_data['mean_delay'] = (\n",
    "        data.groupby('customer_unique_id')[\n",
    "            'order_estimated_delivery_date'].mean()\n",
    "        - data.groupby('customer_unique_id')[\n",
    "            'order_delivered_customer_date'].mean()).apply(\n",
    "        lambda x: x.days)\n",
    "    \n",
    "    # warehouse_distance\n",
    "    final_data['warehouse_distance'] = data.groupby(\n",
    "        'customer_unique_id')[\n",
    "        ['geolocation_lat','geolocation_lng']\n",
    "    ].mean().apply(\n",
    "        lambda x: haversine(\n",
    "            (x['geolocation_lat'],\n",
    "             x['geolocation_lng']),\n",
    "             olist),\n",
    "        axis=1)\n",
    "    \n",
    "    # command_nb\n",
    "    final_data['command_nb'] = data.groupby(\n",
    "        ['customer_unique_id']\n",
    "    )['customer_unique_id'].count()\n",
    "    \n",
    "    # mean_basket\n",
    "    final_data['mean_basket'] = data.groupby(\n",
    "        ['customer_unique_id','order_id'])[\n",
    "        'price'].mean().groupby(\n",
    "        ['customer_unique_id']).mean()\n",
    "    \n",
    "    # max_product_price\n",
    "    final_data['max_product_price'] = data.groupby(\n",
    "        ['customer_unique_id'])['price'].max()\n",
    "    \n",
    "    # total_spent\n",
    "    final_data['total_spent'] = data.groupby(\n",
    "        ['customer_unique_id'])['price'].sum()\n",
    "    \n",
    "    # mean_review_note\n",
    "    final_data['mean_review_note'] = data.groupby(\n",
    "        ['customer_unique_id'])['review_score'].mean()\n",
    "\n",
    "    final_data['last_weekday_purchase'] = data.groupby(\n",
    "        ['customer_unique_id'])['order_purchase_timestamp'].max().apply(\n",
    "    lambda x: x.weekday())\n",
    "    \n",
    "    # Traitement des valeurs abérrantes\n",
    "    final_data = final_data[final_data['mean_delay'] < 1000]\n",
    "    final_data = final_data[final_data['mean_delay'] > 0]\n",
    "    \n",
    "    return final_data"
   ]
  },
  {
   "cell_type": "markdown",
   "id": "c7b49a48",
   "metadata": {},
   "source": [
    "# Finalisation du jeu de données final"
   ]
  },
  {
   "cell_type": "code",
   "execution_count": 240,
   "id": "944b4df0",
   "metadata": {},
   "outputs": [],
   "source": [
    "data_final = FeatureEngineering(data)"
   ]
  },
  {
   "cell_type": "code",
   "execution_count": 241,
   "id": "3f1bea69",
   "metadata": {
    "scrolled": true
   },
   "outputs": [
    {
     "data": {
      "text/plain": [
       "['order_id',\n",
       " 'product_id',\n",
       " 'price',\n",
       " 'review_score',\n",
       " 'customer_id',\n",
       " 'order_purchase_timestamp',\n",
       " 'order_delivered_customer_date',\n",
       " 'order_estimated_delivery_date',\n",
       " 'customer_unique_id',\n",
       " 'geolocation_lat',\n",
       " 'geolocation_lng']"
      ]
     },
     "execution_count": 241,
     "metadata": {},
     "output_type": "execute_result"
    }
   ],
   "source": [
    "# Liste des colonnes retenues\n",
    "data.columns.tolist()"
   ]
  },
  {
   "cell_type": "code",
   "execution_count": 242,
   "id": "6504e7e8",
   "metadata": {},
   "outputs": [
    {
     "data": {
      "text/plain": [
       "83962"
      ]
     },
     "execution_count": 242,
     "metadata": {},
     "output_type": "execute_result"
    }
   ],
   "source": [
    "data_final.shape[0]"
   ]
  },
  {
   "cell_type": "code",
   "execution_count": 243,
   "id": "f9807595",
   "metadata": {
    "scrolled": false
   },
   "outputs": [
    {
     "data": {
      "image/png": "[encoded data removed]",
      "text/plain": [
       "<Figure size 2520x576 with 1 Axes>"
      ]
     },
     "metadata": {},
     "output_type": "display_data"
    },
    {
     "data": {
      "image/png": "[encoded data removed]",
      "text/plain": [
       "<Figure size 2520x576 with 1 Axes>"
      ]
     },
     "metadata": {},
     "output_type": "display_data"
    },
    {
     "data": {
      "image/png": "[encoded data removed]",
      "text/plain": [
       "<Figure size 2520x576 with 1 Axes>"
      ]
     },
     "metadata": {},
     "output_type": "display_data"
    },
    {
     "data": {
      "image/png": "[encoded data removed]",
      "text/plain": [
       "<Figure size 2520x576 with 1 Axes>"
      ]
     },
     "metadata": {},
     "output_type": "display_data"
    },
    {
     "data": {
      "image/png": "[encoded data removed]",
      "text/plain": [
       "<Figure size 2520x576 with 1 Axes>"
      ]
     },
     "metadata": {},
     "output_type": "display_data"
    },
    {
     "data": {
      "image/png": "[encoded data removed]",
      "text/plain": [
       "<Figure size 2520x576 with 1 Axes>"
      ]
     },
     "metadata": {},
     "output_type": "display_data"
    },
    {
     "data": {
      "image/png": "[encoded data removed]",
      "text/plain": [
       "<Figure size 2520x576 with 1 Axes>"
      ]
     },
     "metadata": {},
     "output_type": "display_data"
    },
    {
     "data": {
      "image/png": "[encoded data removed]",
      "text/plain": [
       "<Figure size 2520x576 with 1 Axes>"
      ]
     },
     "metadata": {},
     "output_type": "display_data"
    },
    {
     "data": {
      "image/png": "[encoded data removed]",
      "text/plain": [
       "<Figure size 2520x576 with 1 Axes>"
      ]
     },
     "metadata": {},
     "output_type": "display_data"
    }
   ],
   "source": [
    "# Afficher la répartition numériques des features\n",
    "sns.set(font_scale=2)\n",
    "for col in data_final.columns.tolist():\n",
    "    plt.figure(figsize = (35,8))\n",
    "    sns.boxenplot(data_final[col])\n",
    "    plt.xlabel(col)\n",
    "    plt.show()\n",
    "sns.set(font_scale=1)"
   ]
  },
  {
   "cell_type": "markdown",
   "id": "a1a8d52e",
   "metadata": {},
   "source": [
    "## Export des données"
   ]
  },
  {
   "cell_type": "code",
   "execution_count": 244,
   "id": "04492001",
   "metadata": {},
   "outputs": [],
   "source": [
    "# Export au format CSV sous le nom 'cleaned_dataset'\n",
    "data_final.to_csv(\"cleaned_dataset.csv\")"
   ]
  }
 ],
 "metadata": {
  "kernelspec": {
   "display_name": "Python 3 (ipykernel)",
   "language": "python",
   "name": "python3"
  },
  "language_info": {
   "codemirror_mode": {
    "name": "ipython",
    "version": 3
   },
   "file_extension": ".py",
   "mimetype": "text/x-python",
   "name": "python",
   "nbconvert_exporter": "python",
   "pygments_lexer": "ipython3",
   "version": "3.9.7"
  }
 },
 "nbformat": 4,
 "nbformat_minor": 5
}
