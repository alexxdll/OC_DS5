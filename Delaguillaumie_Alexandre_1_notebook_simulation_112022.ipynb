{
 "cells": [
  {
   "cell_type": "code",
   "execution_count": 1,
   "id": "d41398ef",
   "metadata": {},
   "outputs": [],
   "source": [
    "# PEP8\n",
    "# %load_ext pycodestyle_magic\n",
    "# %pycodestyle_off"
   ]
  },
  {
   "cell_type": "code",
   "execution_count": 2,
   "id": "e564a0b1",
   "metadata": {},
   "outputs": [],
   "source": [
    "# Verbose\n",
    "from functions import *\n",
    "import warnings\n",
    "import timeit\n",
    "from tqdm import tqdm\n",
    "\n",
    "# Haversine\n",
    "from haversine import haversine, Unit\n",
    "\n",
    "# Random\n",
    "import random\n",
    "\n",
    "# Pandas\n",
    "import pandas as pd\n",
    "from pandas.tseries.offsets import DateOffset\n",
    "\n",
    "# Scipy\n",
    "import scipy\n",
    "\n",
    "# Numpy\n",
    "import numpy as np\n",
    "\n",
    "warnings.filterwarnings('ignore')\n",
    "pd.options.mode.chained_assignment = None"
   ]
  },
  {
   "cell_type": "code",
   "execution_count": 3,
   "id": "380cd890",
   "metadata": {},
   "outputs": [],
   "source": [
    "# matplotlib\n",
    "import matplotlib.pyplot as plt\n",
    "# Seaborn\n",
    "import seaborn as sns\n",
    "sns.set()"
   ]
  },
  {
   "cell_type": "code",
   "execution_count": 4,
   "id": "e3739c05",
   "metadata": {},
   "outputs": [],
   "source": [
    "# Preprocessing\n",
    "from sklearn.preprocessing import MinMaxScaler\n",
    "\n",
    "# Cluster\n",
    "from sklearn.cluster import KMeans\n",
    "from sklearn.metrics.cluster import adjusted_rand_score"
   ]
  },
  {
   "cell_type": "markdown",
   "id": "f30133d4",
   "metadata": {},
   "source": [
    "## 1.0 Initialisation"
   ]
  },
  {
   "cell_type": "code",
   "execution_count": 5,
   "id": "16acb14e",
   "metadata": {},
   "outputs": [],
   "source": [
    "# Chargement des données\n",
    "data = pd.read_csv(\n",
    "    \"dataset_simulation.csv\").drop(\n",
    "    ['Unnamed: 0',],axis=1)"
   ]
  },
  {
   "cell_type": "code",
   "execution_count": 6,
   "id": "ec920942",
   "metadata": {},
   "outputs": [],
   "source": [
    "# Suppression des doublons\n",
    "data.drop_duplicates(subset=['customer_id'],\n",
    "                     inplace=True)"
   ]
  },
  {
   "cell_type": "code",
   "execution_count": 7,
   "id": "861a3221",
   "metadata": {},
   "outputs": [
    {
     "data": {
      "text/plain": [
       "95831"
      ]
     },
     "execution_count": 7,
     "metadata": {},
     "output_type": "execute_result"
    }
   ],
   "source": [
    "# Nombre d'indexs\n",
    "data.shape[0]"
   ]
  },
  {
   "cell_type": "code",
   "execution_count": 8,
   "id": "9a08fed3",
   "metadata": {},
   "outputs": [],
   "source": [
    "# Coordonnées de l'entrepôt\n",
    "olist = (-25.43045, -49.29207)\n",
    "\n",
    "# Modification au format datetime\n",
    "data['order_purchase_timestamp'] = data[\n",
    "    'order_purchase_timestamp'].astype('datetime64')\n",
    "\n",
    "# Modification au format datetime\n",
    "data['order_estimated_delivery_date'] = data[\n",
    "    'order_estimated_delivery_date'].astype('datetime64')\n",
    "\n",
    "# Modification au format datetime\n",
    "data['order_delivered_customer_date'] = pd.to_datetime(\n",
    "    data['order_delivered_customer_date'],\n",
    "    errors='coerce')"
   ]
  },
  {
   "cell_type": "markdown",
   "id": "4bb83ef5",
   "metadata": {},
   "source": [
    "## Fonctions de Feature Engineering"
   ]
  },
  {
   "cell_type": "code",
   "execution_count": 9,
   "id": "66aaec46",
   "metadata": {},
   "outputs": [],
   "source": [
    "def FeatureEngineering(data):\n",
    "    \n",
    "    '''\n",
    "    Fonction permettant de refaire un feature\n",
    "    engineering sur mesure pour tout DataFrame en input\n",
    "    '''\n",
    "    \n",
    "    # Création d'un dataframe vide\n",
    "    final_data = pd.DataFrame()\n",
    "    \n",
    "    # last_day_purchase\n",
    "    final_data['last_day_purchase'] = (\n",
    "        data.order_purchase_timestamp.max()\n",
    "        - data.groupby('customer_unique_id')[\n",
    "            'order_purchase_timestamp'].max()).apply(\n",
    "        lambda x: x.days)\n",
    "    \n",
    "    # mean_delay\n",
    "    final_data['mean_delay'] = (\n",
    "        data.groupby('customer_unique_id')[\n",
    "            'order_estimated_delivery_date'].mean()\n",
    "        - data.groupby('customer_unique_id')[\n",
    "            'order_delivered_customer_date'].mean()).apply(\n",
    "        lambda x: x.days)\n",
    "    \n",
    "    # warehouse_distance\n",
    "    final_data['warehouse_distance'] = data.groupby(\n",
    "        'customer_unique_id')[\n",
    "        ['geolocation_lat','geolocation_lng']\n",
    "    ].mean().apply(\n",
    "        lambda x: haversine(\n",
    "            (x['geolocation_lat'],\n",
    "             x['geolocation_lng']),\n",
    "             olist),\n",
    "        axis=1)\n",
    "    \n",
    "    # command_nb\n",
    "    final_data['command_nb'] = data.groupby(\n",
    "        ['customer_unique_id']\n",
    "    )['customer_unique_id'].count()\n",
    "    \n",
    "    # mean_basket\n",
    "    final_data['mean_basket'] = data.groupby(\n",
    "        ['customer_unique_id','order_id'])[\n",
    "        'price'].mean().groupby(\n",
    "        ['customer_unique_id']).mean()\n",
    "    \n",
    "    # max_product_price\n",
    "    final_data['max_product_price'] = data.groupby(\n",
    "        ['customer_unique_id'])['price'].max()\n",
    "    \n",
    "    # total_spent\n",
    "    final_data['total_spent'] = data.groupby(\n",
    "        ['customer_unique_id'])['price'].sum()\n",
    "    \n",
    "    # mean_review_note\n",
    "    final_data['mean_review_note'] = data.groupby(\n",
    "        ['customer_unique_id'])['review_score'].mean()\n",
    "    \n",
    "    # Traitement des valeurs abérrantes\n",
    "    final_data = final_data[final_data['mean_delay'] < 1000]\n",
    "    final_data = final_data[final_data['mean_delay'] > 0]\n",
    "    \n",
    "    return final_data"
   ]
  },
  {
   "cell_type": "markdown",
   "id": "cc96a17f",
   "metadata": {},
   "source": [
    "# Création d'un dataframe"
   ]
  },
  {
   "cell_type": "markdown",
   "id": "92aca04d",
   "metadata": {},
   "source": [
    "## 2.0 Mise en place d'une temporalité"
   ]
  },
  {
   "cell_type": "code",
   "execution_count": 10,
   "id": "4d5f1967",
   "metadata": {},
   "outputs": [
    {
     "name": "stdout",
     "output_type": "stream",
     "text": [
      "Date du premier achat 2016-10-03 09:44:50\n",
      "Date du dernier achat 2018-08-29 15:00:37\n"
     ]
    }
   ],
   "source": [
    "print(\"Date du premier achat\", data.order_purchase_timestamp.min())\n",
    "print(\"Date du dernier achat\", data.order_purchase_timestamp.max())"
   ]
  },
  {
   "cell_type": "code",
   "execution_count": 12,
   "id": "61363fcc",
   "metadata": {},
   "outputs": [
    {
     "name": "stdout",
     "output_type": "stream",
     "text": [
      "Nombre de jours total sur la période : 695\n"
     ]
    }
   ],
   "source": [
    "print(\"Nombre de jours total sur la période :\", (data.order_purchase_timestamp.max() - data.order_purchase_timestamp.min()).days)"
   ]
  },
  {
   "cell_type": "markdown",
   "id": "cd28adcf",
   "metadata": {},
   "source": [
    "## 3.0 Calcul du ARI"
   ]
  },
  {
   "cell_type": "code",
   "execution_count": 56,
   "id": "fd088ef0",
   "metadata": {},
   "outputs": [],
   "source": [
    "def DataDated(data, days):\n",
    "    '''Permet de créer un Dataframe ne contenant \n",
    "    que les clients ayant acheté sur une période définie'''\n",
    "    return data[\n",
    "        data.order_purchase_timestamp <= (data.order_purchase_timestamp.min()\n",
    "                                          + DateOffset(days=150 \n",
    "                                                       + days))]"
   ]
  },
  {
   "cell_type": "code",
   "execution_count": 57,
   "id": "c1bd5dc2",
   "metadata": {},
   "outputs": [],
   "source": [
    "# Permet de fixer les aléatoires \n",
    "# afin de comparer plus facilement les résultats\n",
    "random.seed(10)"
   ]
  },
  {
   "cell_type": "code",
   "execution_count": 58,
   "id": "401fa0f5",
   "metadata": {},
   "outputs": [],
   "source": [
    "# Initialisation du modèle à T0 (pour J=150)\n",
    "F0 = FeatureEngineering(DataDated(data, 0))\n",
    "old_transformer = MinMaxScaler().fit(F0)\n",
    "F0_scaled = old_transformer.transform(F0)\n",
    "M0 = KMeans(n_clusters=4).fit(F0_scaled)"
   ]
  },
  {
   "cell_type": "markdown",
   "id": "24a84e9f",
   "metadata": {},
   "source": [
    "Boucle créant un nouveau DataFrame et son modèle associé afin de comparer l'efficacité de l'ancien modèle face à un nouveau"
   ]
  },
  {
   "cell_type": "code",
   "execution_count": 59,
   "id": "9cd9a430",
   "metadata": {},
   "outputs": [
    {
     "name": "stderr",
     "output_type": "stream",
     "text": [
      "100%|███████████████████████████████████████████| 53/53 [00:53<00:00,  1.01s/it]\n"
     ]
    }
   ],
   "source": [
    "# Liste qui contiendra les résultats de l'ARI\n",
    "# et son jour associé\n",
    "ARI_score = []\n",
    "\n",
    "for i in tqdm(range(0, 365, 7)):\n",
    "    Fi = FeatureEngineering(DataDated(data, i))\n",
    "    Fi = Fi[Fi.index.isin(F0.index.tolist())]\n",
    "    new_transformer = MinMaxScaler().fit(Fi)\n",
    "    \n",
    "    Fi_std_old = old_transformer.transform(Fi)\n",
    "    clusters_old = M0.predict(Fi_std_old)\n",
    "    \n",
    "    Fi_std_new = new_transformer.transform(Fi)\n",
    "    Mi = KMeans(n_clusters=4).fit(Fi_std_new)\n",
    "    clusters_new = Mi.predict(Fi_std_new)\n",
    "    \n",
    "    ARI = adjusted_rand_score(clusters_old, clusters_new)\n",
    "    ARI_score.append([i,\n",
    "                      ARI])"
   ]
  },
  {
   "cell_type": "code",
   "execution_count": 60,
   "id": "8b5fa235",
   "metadata": {},
   "outputs": [],
   "source": [
    "# Création d'un DataFrame contenant les résultats de l'ARI\n",
    "ARI_data_score = pd.DataFrame(\n",
    "    ARI_score, columns=[\n",
    "        \"periode\", \"ARI\"])\n",
    "ARI_data_score[\n",
    "    'weeks'] = ARI_data_score.reset_index()[\n",
    "    'index']+1"
   ]
  },
  {
   "cell_type": "code",
   "execution_count": 61,
   "id": "7ead4413",
   "metadata": {
    "scrolled": false
   },
   "outputs": [
    {
     "data": {
      "image/png": "[encoded data removed]",
      "text/plain": [
       "<Figure size 1152x432 with 1 Axes>"
      ]
     },
     "metadata": {},
     "output_type": "display_data"
    }
   ],
   "source": [
    "# Affichage de la stabilité temporelle sur 1 an\n",
    "fig = plt.figure(figsize=(16,\n",
    "                          6))\n",
    "sns.lineplot(data=ARI_data_score,\n",
    "             x=\"weeks\",\n",
    "             y=\"ARI\")\n",
    "\n",
    "plt.xlabel(\"Nombre de semaines passés\")\n",
    "plt.xticks(ARI_data_score.weeks)\n",
    "plt.ylabel(\"Score ARI\")\n",
    "plt.title(\"Stabilité temporelle de la segmentation par K-Means\",\n",
    "          fontsize=18,\n",
    "          color=\"b\")\n",
    "plt.show()"
   ]
  },
  {
   "cell_type": "markdown",
   "id": "072c5634",
   "metadata": {},
   "source": [
    "**Note:** *On peut considérer que l'ARI devient trop bas en dessous de 0.8, soit à la 8ème semaine (46 jours).*"
   ]
  },
  {
   "cell_type": "markdown",
   "id": "137eef7a",
   "metadata": {},
   "source": [
    "## 4.0 Test sur la période la plus récente"
   ]
  },
  {
   "cell_type": "code",
   "execution_count": 67,
   "id": "5cf8724a",
   "metadata": {},
   "outputs": [],
   "source": [
    "def DataDated(data, days):\n",
    "    '''Permet de créer un Dataframe ne contenant \n",
    "    que les clients ayant acheté sur une période définie'''\n",
    "    return data[\n",
    "        data.order_purchase_timestamp <= (data.order_purchase_timestamp.min()\n",
    "                                          + DateOffset(days=695-46 \n",
    "                                                       + days))]"
   ]
  },
  {
   "cell_type": "markdown",
   "id": "53330b9f",
   "metadata": {},
   "source": [
    "Boucle créant un nouveau DataFrame et son modèle associé afin de comparer l'efficacité de l'ancien modèle face à un nouveau"
   ]
  },
  {
   "cell_type": "code",
   "execution_count": 68,
   "id": "27cd0c5b",
   "metadata": {},
   "outputs": [],
   "source": [
    "# Liste qui contiendra les résultats de l'ARI\n",
    "# et son jour associé\n",
    "ARI_score = []\n",
    "\n",
    "for i in range(0, 46, 7):\n",
    "    Fi = FeatureEngineering(DataDated(data, i))\n",
    "    Fi = Fi[Fi.index.isin(F0.index.tolist())]\n",
    "    new_transformer = MinMaxScaler().fit(Fi)\n",
    "    \n",
    "    Fi_std_old = old_transformer.transform(Fi)\n",
    "    clusters_old = M0.predict(Fi_std_old)\n",
    "    \n",
    "    Fi_std_new = new_transformer.transform(Fi)\n",
    "    Mi = KMeans(n_clusters=4).fit(Fi_std_new)\n",
    "    clusters_new = Mi.predict(Fi_std_new)\n",
    "    \n",
    "    ARI = adjusted_rand_score(clusters_old, clusters_new)\n",
    "    ARI_score.append([i,\n",
    "                      ARI])"
   ]
  },
  {
   "cell_type": "code",
   "execution_count": 69,
   "id": "f91352ea",
   "metadata": {},
   "outputs": [],
   "source": [
    "# Création d'un DataFrame contenant les résultats de l'ARI\n",
    "ARI_data_score = pd.DataFrame(ARI_score, columns=[\"periode\", \"ARI\"])\n",
    "ARI_data_score['weeks'] = ARI_data_score.reset_index()['index']+1"
   ]
  },
  {
   "cell_type": "code",
   "execution_count": 70,
   "id": "9013a66d",
   "metadata": {
    "scrolled": false
   },
   "outputs": [
    {
     "data": {
      "image/png": "[encoded data removed]",
      "text/plain": [
       "<Figure size 864x576 with 1 Axes>"
      ]
     },
     "metadata": {},
     "output_type": "display_data"
    }
   ],
   "source": [
    "# Affichage de la stabilité temporelle sur les 46 derniers jours\n",
    "fig = plt.figure(figsize=(12,\n",
    "                          8))\n",
    "sns.lineplot(data=ARI_data_score,\n",
    "             x=\"weeks\",\n",
    "             y=\"ARI\")\n",
    "\n",
    "plt.xlabel(\"Nombre de semaines passés\")\n",
    "plt.xticks(ARI_data_score.weeks)\n",
    "plt.ylabel(\"Score ARI\")\n",
    "plt.title(\"Stabilité temporelle de la segmentation par K-Means\",\n",
    "          fontsize=18,\n",
    "          color=\"b\")\n",
    "plt.show()"
   ]
  },
  {
   "cell_type": "markdown",
   "id": "4c5e52fb",
   "metadata": {},
   "source": [
    "**Note:** *On voit que les résultats ne changent pas drastiquement (37 jours au lieu de 46).*"
   ]
  }
 ],
 "metadata": {
  "kernelspec": {
   "display_name": "Python 3 (ipykernel)",
   "language": "python",
   "name": "python3"
  },
  "language_info": {
   "codemirror_mode": {
    "name": "ipython",
    "version": 3
   },
   "file_extension": ".py",
   "mimetype": "text/x-python",
   "name": "python",
   "nbconvert_exporter": "python",
   "pygments_lexer": "ipython3",
   "version": "3.9.7"
  }
 },
 "nbformat": 4,
 "nbformat_minor": 5
}
